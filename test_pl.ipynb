{
 "cells": [
  {
   "cell_type": "code",
   "execution_count": 17,
   "id": "a914ffe8",
   "metadata": {},
   "outputs": [
    {
     "name": "stdout",
     "output_type": "stream",
     "text": [
      "\n",
      "0: 384x640 1 Placa, 4.8ms\n",
      "Speed: 1.0ms preprocess, 4.8ms inference, 0.9ms postprocess per image at shape (1, 3, 384, 640)\n"
     ]
    },
    {
     "data": {
      "text/plain": [
       "<matplotlib.image.AxesImage at 0x7677eff1fc90>"
      ]
     },
     "execution_count": 17,
     "metadata": {},
     "output_type": "execute_result"
    }
   ],
   "source": [
    "from PIL import Image\n",
    "import matplotlib.pyplot as plt\n",
    "from ultralytics import YOLO\n",
    "model_placa=YOLO(\"/root/jastudillo/Placas/runs/detect/yolo11_obb_custom/weights/best.pt\")\n",
    "\n",
    "img=Image.open(\"/root/jastudillo/Placas/data/images/val/06f42286-Jacaranda_554.jpg\").convert(\"RGB\")\n",
    "\n",
    "results=model_placa.predict(img,conf=0.5)\n",
    "for result in results:\n",
    "    img_result=result.plot()\n",
    "    points=result.boxes.xyxy.cpu().numpy()\n",
    "%matplotlib inline\n",
    "plt.imshow(img_result)\n"
   ]
  },
  {
   "cell_type": "code",
   "execution_count": 18,
   "id": "c0351a77",
   "metadata": {},
   "outputs": [
    {
     "name": "stdout",
     "output_type": "stream",
     "text": [
      "Points: [[      158.4      271.15      260.99      331.52]]\n"
     ]
    },
    {
     "data": {
      "text/plain": [
       "<matplotlib.image.AxesImage at 0x7677f43bd910>"
      ]
     },
     "execution_count": 18,
     "metadata": {},
     "output_type": "execute_result"
    }
   ],
   "source": [
    "import numpy as np\n",
    "print(\"Points:\", points)\n",
    "img_placa_or=np.array(img)\n",
    "img_placa = img_placa_or[int(points[0][1]):int(points[0][3]), int(points[0][0]):int(points[0][2])]\n",
    "\n",
    "plt.imshow(img_placa)"
   ]
  },
  {
   "cell_type": "code",
   "execution_count": 19,
   "id": "4ecb0993",
   "metadata": {},
   "outputs": [
    {
     "name": "stderr",
     "output_type": "stream",
     "text": [
      "\u001b[32m[INFO] 2025-07-14 22:27:23,967 [RapidOCR] base.py:24: Using engine_name: onnxruntime\u001b[0m\n",
      "\u001b[32m[INFO] 2025-07-14 22:27:23,968 [RapidOCR] main.py:55: Using /root/.cnstd/1.2/ppocr/ch_PP-OCRv5_det/ch_PP-OCRv5_det_infer.onnx\u001b[0m\n"
     ]
    },
    {
     "name": "stdout",
     "output_type": "stream",
     "text": [
      "正苑\n"
     ]
    }
   ],
   "source": [
    "from cnocr import CnOcr \n",
    "\n",
    "cn_ocr = CnOcr(context=\"cpu\")\n",
    "\n",
    "texto = cn_ocr.ocr_for_single_line(img_placa).get(\"text\", \"\")\n",
    "print(texto)"
   ]
  },
  {
   "cell_type": "code",
   "execution_count": 24,
   "id": "55f89cb9",
   "metadata": {},
   "outputs": [
    {
     "name": "stderr",
     "output_type": "stream",
     "text": [
      "\u001b[32m[INFO] 2025-07-14 22:30:31,420 [RapidOCR] base.py:24: Using engine_name: onnxruntime\u001b[0m\n",
      "\u001b[32m[INFO] 2025-07-14 22:30:31,423 [RapidOCR] main.py:55: Using /root/.cnstd/1.2/ppocr/ch_PP-OCRv5_det/ch_PP-OCRv5_det_infer.onnx\u001b[0m\n"
     ]
    },
    {
     "name": "stdout",
     "output_type": "stream",
     "text": [
      "Automobile\n",
      "8\n",
      "05-18-2024 Sat 00:32:12\n",
      "Ei\n",
      "Camera 01\n"
     ]
    }
   ],
   "source": [
    "from cnstd import CnStd\n",
    "std = CnStd(context=\"cpu\", use_angle_clf=True)\n",
    "box_infos = std.detect(img_placa_or)\n",
    "for box in box_infos[\"detected_texts\"]:\n",
    "    texto = cn_ocr.ocr_for_single_line(box[\"cropped_img\"]).get(\"text\", \"\")\n",
    "    print(texto)\n",
    "\n"
   ]
  }
 ],
 "metadata": {
  "kernelspec": {
   "display_name": "Python 3",
   "language": "python",
   "name": "python3"
  },
  "language_info": {
   "codemirror_mode": {
    "name": "ipython",
    "version": 3
   },
   "file_extension": ".py",
   "mimetype": "text/x-python",
   "name": "python",
   "nbconvert_exporter": "python",
   "pygments_lexer": "ipython3",
   "version": "3.11.12"
  }
 },
 "nbformat": 4,
 "nbformat_minor": 5
}
