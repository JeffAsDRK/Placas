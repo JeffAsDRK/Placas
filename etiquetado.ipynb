{
 "cells": [
  {
   "cell_type": "code",
   "execution_count": 8,
   "id": "1d2d4845",
   "metadata": {},
   "outputs": [
    {
     "name": "stdout",
     "output_type": "stream",
     "text": [
      "                       Name Plate\n",
      "0    002943b6-Auqui_392.jpg  None\n",
      "1     002d259f-Auqui_55.jpg  None\n",
      "2  003e80b7-Krypton_182.jpg  None\n",
      "3    004e5f9d-Danesa_16.jpg  None\n",
      "4  008de312-Krypton_306.jpg  None\n"
     ]
    }
   ],
   "source": [
    "import os\n",
    "import pandas as pd \n",
    "base_path = \"data/placas\"\n",
    "files = os.listdir(base_path)\n",
    "colum=[]\n",
    "for folder,_,files in os.walk(base_path):\n",
    "    for file in files:\n",
    "        colum.append({\"Name\":file,\"Plate\":None})\n",
    "df = pd.DataFrame(colum)\n",
    "print(df.head())\n",
    "df.to_excel(\"placas.xlsx\",index=False)"
   ]
  }
 ],
 "metadata": {
  "kernelspec": {
   "display_name": "trabajo",
   "language": "python",
   "name": "python3"
  },
  "language_info": {
   "codemirror_mode": {
    "name": "ipython",
    "version": 3
   },
   "file_extension": ".py",
   "mimetype": "text/x-python",
   "name": "python",
   "nbconvert_exporter": "python",
   "pygments_lexer": "ipython3",
   "version": "3.11.13"
  }
 },
 "nbformat": 4,
 "nbformat_minor": 5
}
