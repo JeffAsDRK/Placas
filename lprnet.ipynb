{
 "cells": [
  {
   "cell_type": "code",
   "execution_count": 7,
   "id": "a9737207",
   "metadata": {},
   "outputs": [],
   "source": [
    "import os\n",
    "import sys\n",
    "import cv2\n",
    "import numpy as np\n",
    "import argparse\n",
    "\n",
    "\n",
    "CHARS = ['京', '沪', '津', '渝', '冀', '晋', '蒙', '辽', '吉', '黑',\n",
    "     '苏', '浙', '皖', '闽', '赣', '鲁', '豫', '鄂', '湘', '粤',\n",
    "     '桂', '琼', '川', '贵', '云', '藏', '陕', '甘', '青', '宁',\n",
    "     '新',\n",
    "     '0', '1', '2', '3', '4', '5', '6', '7', '8', '9',\n",
    "     'A', 'B', 'C', 'D', 'E', 'F', 'G', 'H', 'J', 'K',\n",
    "     'L', 'M', 'N', 'P', 'Q', 'R', 'S', 'T', 'U', 'V',\n",
    "     'W', 'X', 'Y', 'Z', 'I', 'O', '-'\n",
    "     ]\n",
    "\n",
    "def decode(preds, CHARS):\n",
    "    # greedy decode\n",
    "    pred_labels = list()\n",
    "    labels = list()\n",
    "    for i in range(preds.shape[0]):\n",
    "        pred = preds[i, :, :]\n",
    "        pred_label = list()\n",
    "        for j in range(pred.shape[1]):\n",
    "            pred_label.append(np.argmax(pred[:, j], axis=0))\n",
    "        no_repeat_blank_label = list()\n",
    "        pre_c = pred_label[0]\n",
    "        for c in pred_label: # dropout repeate label and blank label\n",
    "            if (pre_c == c) or (c == len(CHARS) - 1):\n",
    "                if c == len(CHARS) - 1:\n",
    "                    pre_c = c\n",
    "                continue\n",
    "            no_repeat_blank_label.append(c)\n",
    "            pre_c = c\n",
    "        pred_labels.append(no_repeat_blank_label)\n",
    "        \n",
    "    for i, label in enumerate(pred_labels):\n",
    "        lb = \"\"\n",
    "        for i in label:\n",
    "            lb += CHARS[i]\n",
    "        labels.append(lb)\n",
    "    return labels, pred_labels"
   ]
  },
  {
   "cell_type": "code",
   "execution_count": 11,
   "id": "4562631e",
   "metadata": {},
   "outputs": [
    {
     "name": "stdout",
     "output_type": "stream",
     "text": [
      "PlACA: 湘F6CL03\n"
     ]
    }
   ],
   "source": [
    "import cv2\n",
    "import numpy as np\n",
    "import onnxruntime as ort\n",
    "\n",
    "# Leer y preprocesar imagen\n",
    "img = cv2.imread('test.jpg')\n",
    "img = cv2.resize(img, (94, 24))\n",
    "\n",
    "# Convertir a float32 y normalizar\n",
    "img = img.astype(np.float32) / 255.0\n",
    "\n",
    "# Reordenar dimensiones si es necesario (ej: HWC -> CHW)\n",
    "img = np.transpose(img, (2, 0, 1))  # De (H, W, C) a (C, H, W) si el modelo lo requiere\n",
    "\n",
    "# Añadir dimensión batch\n",
    "img = np.expand_dims(img, axis=0)  # De (C, H, W) a (1, C, H, W)\n",
    "\n",
    "# Crear sesión ONNX y correr inferencia\n",
    "session = ort.InferenceSession(\"lprnet.onnx\", providers=[\"CPUExecutionProvider\"])\n",
    "outputs = session.run(None, {\"input\": img})\n",
    "\n",
    "labels, pred_labels = decode(outputs[0], CHARS)\n",
    "print('PlACA: '+ labels[0])"
   ]
  }
 ],
 "metadata": {
  "kernelspec": {
   "display_name": "trabajo",
   "language": "python",
   "name": "python3"
  },
  "language_info": {
   "codemirror_mode": {
    "name": "ipython",
    "version": 3
   },
   "file_extension": ".py",
   "mimetype": "text/x-python",
   "name": "python",
   "nbconvert_exporter": "python",
   "pygments_lexer": "ipython3",
   "version": "3.11.13"
  }
 },
 "nbformat": 4,
 "nbformat_minor": 5
}
